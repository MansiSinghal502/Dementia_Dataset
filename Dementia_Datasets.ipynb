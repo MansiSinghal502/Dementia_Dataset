{
  "nbformat": 4,
  "nbformat_minor": 0,
  "metadata": {
    "colab": {
      "provenance": [],
      "authorship_tag": "ABX9TyNQclH59grVb+U2NlUch1KV",
      "include_colab_link": true
    },
    "kernelspec": {
      "name": "python3",
      "display_name": "Python 3"
    },
    "language_info": {
      "name": "python"
    }
  },
  "cells": [
    {
      "cell_type": "markdown",
      "metadata": {
        "id": "view-in-github",
        "colab_type": "text"
      },
      "source": [
        "<a href=\"https://colab.research.google.com/github/MansiSinghal502/Dementia_Dataset/blob/main/Dementia_Datasets.ipynb\" target=\"_parent\"><img src=\"https://colab.research.google.com/assets/colab-badge.svg\" alt=\"Open In Colab\"/></a>"
      ]
    },
    {
      "cell_type": "code",
      "execution_count": 9,
      "metadata": {
        "id": "ed4mKn27NpfV"
      },
      "outputs": [],
      "source": [
        "import requests\n",
        "import pandas as pd\n",
        "from xml.etree import ElementTree"
      ]
    },
    {
      "cell_type": "code",
      "source": [
        "# Search query\n",
        "query = \"Alzheimer's disease AI\""
      ],
      "metadata": {
        "id": "7sOsW-P2NxdV"
      },
      "execution_count": 2,
      "outputs": []
    },
    {
      "cell_type": "code",
      "source": [
        "# E-utilities URL\n",
        "url = f\"https://eutils.ncbi.nlm.nih.gov/entrez/eutils/esearch.fcgi?db=pubmed&term={query}&retmax=10&retmode=xml\""
      ],
      "metadata": {
        "id": "S93vsUzxN0zo"
      },
      "execution_count": 3,
      "outputs": []
    },
    {
      "cell_type": "code",
      "source": [
        "# Fetch article IDs\n",
        "response = requests.get(url)\n",
        "root = ElementTree.fromstring(response.content)\n",
        "ids = [id_elem.text for id_elem in root.findall(\".//Id\")]"
      ],
      "metadata": {
        "id": "Xu15FuR0N5kW"
      },
      "execution_count": 4,
      "outputs": []
    },
    {
      "cell_type": "code",
      "source": [
        "# Get details of articles\n",
        "fetch_url = f\"https://eutils.ncbi.nlm.nih.gov/entrez/eutils/efetch.fcgi?db=pubmed&id={','.join(ids)}&retmode=xml\"\n",
        "fetch_response = requests.get(fetch_url)\n",
        "fetch_root = ElementTree.fromstring(fetch_response.content)"
      ],
      "metadata": {
        "id": "_sRf6gRGN9AL"
      },
      "execution_count": 5,
      "outputs": []
    },
    {
      "cell_type": "code",
      "source": [
        "# Extract title, authors, and journal info\n",
        "data = []\n",
        "for article in fetch_root.findall(\".//PubmedArticle\"):\n",
        "    title = article.find(\".//ArticleTitle\").text if article.find(\".//ArticleTitle\") is not None else \"N/A\"\n",
        "    journal = article.find(\".//Title\").text if article.find(\".//Title\") is not None else \"N/A\"\n",
        "    authors = [author.find(\"LastName\").text for author in article.findall(\".//Author\") if author.find(\"LastName\") is not None]\n",
        "    authors = \", \".join(authors) if authors else \"N/A\"\n",
        "    data.append([title, journal, authors])"
      ],
      "metadata": {
        "id": "AH7Q0N_fN_bH"
      },
      "execution_count": 6,
      "outputs": []
    },
    {
      "cell_type": "code",
      "source": [
        "# Save to CSV\n",
        "df = pd.DataFrame(data, columns=[\"Title\", \"Journal\", \"Authors\"])\n",
        "df.to_csv(\"pubmed_results.csv\", index=False)\n",
        "print(\"CSV file saved!\")"
      ],
      "metadata": {
        "colab": {
          "base_uri": "https://localhost:8080/"
        },
        "id": "oyeVIlQOODt1",
        "outputId": "78863326-bc18-4d21-b252-a2259d452e7f"
      },
      "execution_count": 7,
      "outputs": [
        {
          "output_type": "stream",
          "name": "stdout",
          "text": [
            "CSV file saved!\n"
          ]
        }
      ]
    }
  ]
}